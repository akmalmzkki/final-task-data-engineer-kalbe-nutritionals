{
 "cells": [
  {
   "cell_type": "code",
   "execution_count": 13,
   "metadata": {},
   "outputs": [],
   "source": [
    "import mysql.connector"
   ]
  },
  {
   "cell_type": "code",
   "execution_count": 14,
   "metadata": {},
   "outputs": [
    {
     "name": "stdout",
     "output_type": "stream",
     "text": [
      "Koneksi berhasil\n"
     ]
    }
   ],
   "source": [
    "# Melakukan percobaan koneksi\n",
    "try:\n",
    "    connection = mysql.connector.connect(\n",
    "        host=\"localhost\",\n",
    "        user=\"root\",\n",
    "        password=\"\"\n",
    "    )\n",
    "    print(\"Koneksi berhasil\")\n",
    "except:\n",
    "    print(\"Koneksi gagal\")"
   ]
  },
  {
   "cell_type": "code",
   "execution_count": 15,
   "metadata": {},
   "outputs": [
    {
     "name": "stdout",
     "output_type": "stream",
     "text": [
      "Database kalbe berhasil dibuat\n"
     ]
    }
   ],
   "source": [
    "# Membuat database kalbe\n",
    "cursor = connection.cursor()\n",
    "cursor.execute(\"CREATE DATABASE IF NOT EXISTS kalbe\")\n",
    "print(\"Database kalbe berhasil dibuat\")"
   ]
  },
  {
   "cell_type": "code",
   "execution_count": 16,
   "metadata": {},
   "outputs": [
    {
     "name": "stdout",
     "output_type": "stream",
     "text": [
      "('bank_database',)\n",
      "('bankingdemo_dem',)\n",
      "('cinematix',)\n",
      "('classicmodels',)\n",
      "('information_schema',)\n",
      "('kalbe',)\n",
      "('mysql',)\n",
      "('performance_schema',)\n",
      "('productions',)\n",
      "('sakila',)\n",
      "('sales',)\n",
      "('sys',)\n",
      "('transaksi',)\n",
      "('world',)\n"
     ]
    }
   ],
   "source": [
    "# Menampilkan database yang ada\n",
    "cursor.execute(\"SHOW DATABASES\")\n",
    "for db in cursor:\n",
    "    print(db)"
   ]
  },
  {
   "cell_type": "code",
   "execution_count": 17,
   "metadata": {},
   "outputs": [
    {
     "name": "stdout",
     "output_type": "stream",
     "text": [
      "Database kalbe berhasil diaktifkan\n"
     ]
    }
   ],
   "source": [
    "# Aktifasi database kalbe\n",
    "cursor.execute(\"USE kalbe\")\n",
    "print(\"Database kalbe berhasil diaktifkan\")"
   ]
  },
  {
   "cell_type": "code",
   "execution_count": 18,
   "metadata": {},
   "outputs": [
    {
     "name": "stdout",
     "output_type": "stream",
     "text": [
      "Tabel karyawan berhasil dibuat\n"
     ]
    }
   ],
   "source": [
    "# Membuat tabel karyawan dengan kolom FIRST_NAME, LAST_NAME, AGE, SEX, INCOME\n",
    "tabel_karyawan = \"\"\"\n",
    "    CREATE TABLE IF NOT EXISTS karyawan (\n",
    "        FIRST_NAME CHAR(20) NOT NULL,\n",
    "        LAST_NAME CHAR(20),\n",
    "        AGE INT,\n",
    "        SEX CHAR(5),\n",
    "        INCOME FLOAT\n",
    "    )\"\"\"\n",
    "cursor.execute(tabel_karyawan)\n",
    "print(\"Tabel karyawan berhasil dibuat\")"
   ]
  },
  {
   "cell_type": "code",
   "execution_count": 19,
   "metadata": {},
   "outputs": [],
   "source": [
    "# Deklarasi SQL Query untuk memasukkan record ke DB (KARYAWAN)\n",
    "insert_sql = (\n",
    "    \"INSERT INTO karyawan (FIRST_NAME, LAST_NAME, AGE, SEX, INCOME)\"\n",
    "    \"VALUES (%s, %s, %s, %s, %s)\"\n",
    ")\n",
    "values = (\"Akmal\", \"Muzakki\", 20, \"M\", 1000000)"
   ]
  },
  {
   "cell_type": "code",
   "execution_count": 20,
   "metadata": {},
   "outputs": [
    {
     "name": "stdout",
     "output_type": "stream",
     "text": [
      "Record berhasil dimasukkan\n"
     ]
    }
   ],
   "source": [
    "try:\n",
    "    # Eksekusi SQl command\n",
    "    cursor.execute(insert_sql, values)\n",
    "    # Commit perubahan ke database\n",
    "    connection.commit()\n",
    "    print(\"Record berhasil dimasukkan\")\n",
    "except mysql.connector.Error as error:\n",
    "    # Rollback jika terjadi kesalahan\n",
    "    connection.rollback()\n",
    "    print(\"Record gagal dimasukkan\")"
   ]
  },
  {
   "cell_type": "code",
   "execution_count": 21,
   "metadata": {},
   "outputs": [
    {
     "name": "stdout",
     "output_type": "stream",
     "text": [
      "('FIRST_NAME', b'char(20)', 'NO', '', None, '')\n",
      "('LAST_NAME', b'char(20)', 'YES', '', None, '')\n",
      "('AGE', b'int', 'YES', '', None, '')\n",
      "('SEX', b'char(5)', 'YES', '', None, '')\n",
      "('INCOME', b'float', 'YES', '', None, '')\n"
     ]
    }
   ],
   "source": [
    "# Tampilkan nama kolom dari tabel karyawan\n",
    "cursor.execute(\"SHOW COLUMNS FROM karyawan\")\n",
    "for kolom in cursor:\n",
    "    print(kolom)"
   ]
  },
  {
   "cell_type": "code",
   "execution_count": 22,
   "metadata": {},
   "outputs": [
    {
     "name": "stdout",
     "output_type": "stream",
     "text": [
      "('Akmal', 'Muzakki', 20, 'M', 1000000.0)\n"
     ]
    }
   ],
   "source": [
    "# Tampilkan data di tabel karyawan\n",
    "cursor.execute(\"SELECT * FROM karyawan\")\n",
    "for data in cursor:\n",
    "    print(data)"
   ]
  },
  {
   "cell_type": "code",
   "execution_count": 23,
   "metadata": {},
   "outputs": [
    {
     "data": {
      "text/plain": [
       "True"
      ]
     },
     "execution_count": 23,
     "metadata": {},
     "output_type": "execute_result"
    }
   ],
   "source": [
    "# Menutup koneksi\n",
    "cursor.close()"
   ]
  }
 ],
 "metadata": {
  "kernelspec": {
   "display_name": "base",
   "language": "python",
   "name": "python3"
  },
  "language_info": {
   "codemirror_mode": {
    "name": "ipython",
    "version": 3
   },
   "file_extension": ".py",
   "mimetype": "text/x-python",
   "name": "python",
   "nbconvert_exporter": "python",
   "pygments_lexer": "ipython3",
   "version": "3.9.12"
  },
  "orig_nbformat": 4
 },
 "nbformat": 4,
 "nbformat_minor": 2
}
